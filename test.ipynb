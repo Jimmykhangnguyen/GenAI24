{
 "cells": [
  {
   "cell_type": "code",
   "execution_count": 1,
   "metadata": {},
   "outputs": [],
   "source": [
    "%load_ext autoreload\n",
    "%autoreload 2"
   ]
  },
  {
   "cell_type": "code",
   "execution_count": 4,
   "metadata": {},
   "outputs": [],
   "source": [
    "import vertexai\n",
    "from vertexai.generative_models import GenerativeModel, Part, GenerationConfig\n",
    "\n",
    "import pprint\n",
    "\n",
    "# Initialize Vertex AI\n",
    "vertexai.init(project='with-comment-418817')\n",
    "# Load the model\n",
    "model = GenerativeModel(\"gemini-1.0-pro\")\n",
    "\n",
    "def generate_text(model, prompt, config=None) -> str:\n",
    "    # Query the model\n",
    "    response = model.generate_content(prompt, generation_config=config)\n",
    "    return response"
   ]
  },
  {
   "cell_type": "code",
   "execution_count": 44,
   "metadata": {},
   "outputs": [],
   "source": [
    "def parse_to_dict(s: str) -> dict:\n",
    "  s = s.replace('\\n', '').replace('\\\\', '')\n",
    "  i = s.index('{')\n",
    "  j = s.index('}')\n",
    "  s = s[i:j + 1]\n",
    "  try:\n",
    "    return json.loads(s)\n",
    "  except Exception as e:\n",
    "    print(s)\n",
    "    raise e"
   ]
  },
  {
   "cell_type": "code",
   "execution_count": 49,
   "metadata": {},
   "outputs": [
    {
     "name": "stdout",
     "output_type": "stream",
     "text": [
      "['SickKids Foundation', 'Princess Margaret Cancer Foundation', 'Heart & Stroke Foundation of Canada']\n"
     ]
    }
   ],
   "source": [
    "import json\n",
    "import configs, prompts\n",
    "\n",
    "location = 'Ontario'\n",
    "category = 'Healthcare'\n",
    "\n",
    "charities = generate_text(\n",
    "  model,\n",
    "  prompts.list_charities.format(location, category),\n",
    "  configs.deterministic\n",
    ").text.split(',')\n",
    "\n",
    "charities = [c.strip() for c in charities]\n",
    "\n",
    "output = dict.fromkeys(charities)\n",
    "\n",
    "for charity in charities:\n",
    "  detail = generate_text(\n",
    "    model,\n",
    "    prompts.details.format(charity),\n",
    "    configs.creative\n",
    "  ).text\n",
    "\n",
    "  detail = parse_to_dict(detail)\n",
    "\n",
    "  spending_breakdown = generate_text(\n",
    "    model, \n",
    "    prompts.spending_breakdown.format(charity),\n",
    "    configs.deterministic\n",
    "  ).text\n",
    "\n",
    "  spending_breakdown = parse_to_dict(spending_breakdown)\n",
    "\n",
    "  output[charity] = {'detail': detail, 'spending': spending_breakdown}\n",
    "\n",
    "print(charities)"
   ]
  },
  {
   "cell_type": "code",
   "execution_count": 50,
   "metadata": {},
   "outputs": [
    {
     "data": {
      "text/plain": [
       "{'SickKids Foundation': {'detail': {'Mission': 'To inspire our community to invest in health and well-being for children in Canada and around the world.',\n",
       "   'Public perceptions': 9,\n",
       "   'Impact': 'SickKids Foundation has funded over $1.3 billion in research, innovation, and patient care at SickKids Hospital.',\n",
       "   'Fundraising Technique': 'SickKids Foundation uses a variety of fundraising techniques, including major gifts, special events, and online donations.',\n",
       "   'Financial transparency': \"SickKids Foundation is a registered charity with the Canada Revenue Agency and is subject to its financial reporting requirements. The foundation's financial statements are audited annually by an independent accounting firm.\"},\n",
       "  'spending': {'Program Expenses': 0.85,\n",
       "   'Fundraising Expenses': 0.1,\n",
       "   'Administration Expenses': 0.03,\n",
       "   'Capital Expenditures': 0.01,\n",
       "   'Other Expenses': 0.01}},\n",
       " 'Princess Margaret Cancer Foundation': {'detail': {'Mission': 'To fund innovative cancer research, provide compassionate patient care, and create a future without cancer.',\n",
       "   'Public perceptions on the scale from 1 to 10': 8,\n",
       "   'Reasoning for public perception': 'The Princess Margaret Cancer Foundation is a highly respected and well-known charity in Canada. It has a strong reputation for funding innovative cancer research and providing compassionate patient care. The foundation is also well-managed and financially transparent.',\n",
       "   'Impact': 'The Princess Margaret Cancer Foundation has had a significant impact on the fight against cancer. The foundation has funded groundbreaking cancer research that has led to new treatments and cures. The foundation has also provided financial assistance to cancer patients and their families, and has helped to create a more supportive environment for cancer patients.',\n",
       "   'Fundraising Technique': 'The Princess Margaret Cancer Foundation uses a variety of fundraising techniques, including:  - Major gifts  - Special events  - Direct mail  - Online fundraising  - Corporate partnerships',\n",
       "   'Financial transparency': 'The Princess Margaret Cancer Foundation is committed to financial transparency. The foundation publishes its financial statements on its website and provides regular updates on its fundraising activities.'},\n",
       "  'spending': {'Program Expenses': 0.75,\n",
       "   'Fundraising Expenses': 0.15,\n",
       "   'Administrative Expenses': 0.05,\n",
       "   'Other Expenses': 0.03,\n",
       "   'Capital Expenditures': 0.02}},\n",
       " 'Heart & Stroke Foundation of Canada': {'detail': {'Mission': 'To prevent disease, save lives, and promote recovery after heart disease and stroke.',\n",
       "   'Public perceptions': 8,\n",
       "   'Impact': 'In 2021, the Heart & Stroke Foundation funded $21 million in research, provided $5 million in support to heart disease and stroke survivors, and educated over 1 million Canadians about heart health.',\n",
       "   'Fundraising Technique': 'The Heart & Stroke Foundation raises funds through a variety of channels, including donations from individuals, corporations, and foundations; special events; and merchandise sales.',\n",
       "   'Financial transparency': 9,\n",
       "   'Reasoning for public perception score': 'The Heart & Stroke Foundation is a well-respected charity with a long history of making a difference in the lives of Canadians. However, the organization has been criticized in recent years for its high fundraising costs and for some of its investment decisions.'},\n",
       "  'spending': {'Program Expenses': 0.82,\n",
       "   'Fundraising Expenses': 0.12,\n",
       "   'Administration Expenses': 0.04,\n",
       "   'Governance Expenses': 0.01,\n",
       "   'Other Expenses': 0.01}}}"
      ]
     },
     "execution_count": 50,
     "metadata": {},
     "output_type": "execute_result"
    }
   ],
   "source": [
    "output"
   ]
  }
 ],
 "metadata": {
  "kernelspec": {
   "display_name": "genai",
   "language": "python",
   "name": "python3"
  },
  "language_info": {
   "codemirror_mode": {
    "name": "ipython",
    "version": 3
   },
   "file_extension": ".py",
   "mimetype": "text/x-python",
   "name": "python",
   "nbconvert_exporter": "python",
   "pygments_lexer": "ipython3",
   "version": "3.12.2"
  }
 },
 "nbformat": 4,
 "nbformat_minor": 2
}
